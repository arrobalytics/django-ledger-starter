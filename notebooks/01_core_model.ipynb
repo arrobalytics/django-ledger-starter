{
 "cells": [
  {
   "cell_type": "code",
   "execution_count": null,
   "metadata": {
    "ExecuteTime": {
     "end_time": "2024-03-19T22:03:46.790467Z",
     "start_time": "2024-03-19T22:03:46.785831Z"
    },
    "tags": []
   },
   "outputs": [],
   "source": [
    "import os\n",
    "\n",
    "import django\n",
    "from django.core.exceptions import ObjectDoesNotExist\n",
    "import pandas as pd\n",
    "import networkx as nx\n",
    "from matplotlib import pyplot as plt\n",
    "from random import randint\n",
    "\n",
    "# for easier visualization it is recommended to use pandas to render data...\n",
    "# if pandas is not installed, you may install it with this command: pip install -U pandas\n",
    "# pandas is not a dependency of django_ledger...\n",
    "\n",
    "# Set your django settings module if needed...\n",
    "os.environ['DJANGO_SETTINGS_MODULE'] = 'django_ledger_starter.settings'\n",
    "\n",
    "# if using jupyter notebook need to set DJANGO_ALLOW_ASYNC_UNSAFE as \"true\"\n",
    "os.environ['DJANGO_ALLOW_ASYNC_UNSAFE'] = 'true'\n",
    "\n",
    "# change your working directory as needed...\n",
    "os.chdir('../')\n",
    "\n",
    "django.setup()\n",
    "\n",
    "from django_ledger.models import EntityModel, ChartOfAccountModel, AccountModel, DEBIT, CREDIT\n",
    "from django_ledger.io import roles\n",
    "from django_ledger import __version__ as DJL_VERSION\n",
    "from django.contrib.auth import get_user_model\n",
    "\n",
    "print(f'Using Django Ledger Version v{DJL_VERSION}')"
   ]
  },
  {
   "cell_type": "markdown",
   "metadata": {},
   "source": [
    "# The Django Ledger Core Model\n",
    "- ### Chart of Accounts\n",
    "- ### Account Model\n",
    "- ### Transaction Model\n",
    "- ### Journal Entry Model\n",
    "- ### Ledger Model\n",
    "- ### Entity Model"
   ]
  },
  {
   "cell_type": "markdown",
   "metadata": {},
   "source": [
    " <img src=\"./assets/djl_core_model.png\" alt=\"Django Ledger Core Model\" width=\"1200\" height=\"600\"> "
   ]
  },
  {
   "cell_type": "markdown",
   "metadata": {},
   "source": [
    "# Get Your FREEE Guide [HERE](https://www.miguelsanda.com/get-started)"
   ]
  }
 ],
 "metadata": {
  "kernelspec": {
   "display_name": "Python 3 (ipykernel)",
   "language": "python",
   "name": "python3"
  },
  "language_info": {
   "codemirror_mode": {
    "name": "ipython",
    "version": 3
   },
   "file_extension": ".py",
   "mimetype": "text/x-python",
   "name": "python",
   "nbconvert_exporter": "python",
   "pygments_lexer": "ipython3",
   "version": "3.11.6"
  }
 },
 "nbformat": 4,
 "nbformat_minor": 4
}
