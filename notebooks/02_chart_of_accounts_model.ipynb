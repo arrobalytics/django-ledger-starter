{
 "cells": [
  {
   "cell_type": "code",
   "execution_count": null,
   "metadata": {
    "ExecuteTime": {
     "end_time": "2024-03-22T13:55:15.462170Z",
     "start_time": "2024-03-22T13:55:14.680591Z"
    },
    "tags": []
   },
   "outputs": [],
   "source": [
    "import os\n",
    "\n",
    "import django\n",
    "from django.core.exceptions import ObjectDoesNotExist\n",
    "import pandas as pd\n",
    "import networkx as nx\n",
    "from matplotlib import pyplot as plt\n",
    "from random import randint\n",
    "\n",
    "# for easier visualization it is recommended to use pandas to render data...\n",
    "# if pandas is not installed, you may install it with this command: pip install -U pandas\n",
    "# pandas is not a dependency of django_ledger...\n",
    "\n",
    "# Set your django settings module if needed...\n",
    "os.environ['DJANGO_SETTINGS_MODULE'] = 'django_ledger_starter.settings'\n",
    "\n",
    "# if using jupyter notebook need to set DJANGO_ALLOW_ASYNC_UNSAFE as \"true\"\n",
    "os.environ['DJANGO_ALLOW_ASYNC_UNSAFE'] = 'true'\n",
    "\n",
    "# change your working directory as needed...\n",
    "os.chdir('../')\n",
    "\n",
    "django.setup()\n",
    "\n",
    "from django_ledger.models import EntityModel, ChartOfAccountModel\n",
    "from django_ledger import __version__ as DJL_VERSION\n",
    "from django.contrib.auth import get_user_model\n",
    "\n",
    "print(f'Using Django Ledger Version v{DJL_VERSION}')"
   ]
  },
  {
   "cell_type": "markdown",
   "metadata": {},
   "source": [
    "# CoA Account\n",
    "- A Chart of Accounts is an index of accounts used to transact on the General Ledger of an Entity. \n",
    "- It provides a human-readable and digestible breakdown of all companies assets, liabilities and equity accounts.\n",
    "- The Entity Chart of Accounts is responsible for driving a lot of the Financial Reporting details. \n",
    "- A healthy breakdown of different accounts and sub-accounts will provide a clearer view and understanding of the company's financial health.\n",
    "- Without a CoA the EntityModel cannot transact since no accounts are present."
   ]
  },
  {
   "cell_type": "markdown",
   "metadata": {},
   "source": [
    " <img src=\"./assets/djl_core_model_coa.png\" alt=\"Django Ledger Core Model\" width=\"1200\" height=\"600\"> "
   ]
  },
  {
   "cell_type": "markdown",
   "metadata": {},
   "source": [
    "# Get or Create Your Entity Administrator UserModel"
   ]
  },
  {
   "cell_type": "code",
   "execution_count": null,
   "metadata": {
    "ExecuteTime": {
     "end_time": "2024-03-22T13:55:15.872588Z",
     "start_time": "2024-03-22T13:55:15.864759Z"
    },
    "tags": []
   },
   "outputs": [],
   "source": [
    "# change this to your preferred django username...\n",
    "MY_USERNAME = 'ceo_user'\n",
    "MY_PASSWORD = 'NeverUseMe|VeryInsecure!'\n",
    "UserModel = get_user_model()\n",
    "\n",
    "try:\n",
    "    ceo_user = UserModel.objects.get(username__exact=MY_USERNAME)\n",
    "except:\n",
    "    ceo_user = UserModel(username=MY_USERNAME)\n",
    "    ceo_user.set_password(MY_PASSWORD)\n",
    "    ceo_user.save()\n",
    "    \n",
    "ceo_user"
   ]
  },
  {
   "cell_type": "markdown",
   "metadata": {},
   "source": [
    "# Get or Create an Entity Model"
   ]
  },
  {
   "cell_type": "code",
   "execution_count": null,
   "metadata": {
    "ExecuteTime": {
     "end_time": "2024-03-22T13:55:16.450792Z",
     "start_time": "2024-03-22T13:55:16.443585Z"
    },
    "tags": []
   },
   "outputs": [],
   "source": [
    "ENTITY_NAME = 'Chart of Accounts Notebook, LLC'\n",
    "\n",
    "try:\n",
    "    entity_model = EntityModel.objects.for_user(user_model=ceo_user).get(name__exact=ENTITY_NAME)\n",
    "except ObjectDoesNotExist:\n",
    "    entity_model = EntityModel.create_entity(\n",
    "        name=ENTITY_NAME,\n",
    "        admin=ceo_user,\n",
    "        use_accrual_method=False,\n",
    "        fy_start_month=1\n",
    "    )\n",
    "    \n",
    "entity_model"
   ]
  },
  {
   "cell_type": "markdown",
   "metadata": {},
   "source": [
    "# List the ChartofAccounts models"
   ]
  },
  {
   "cell_type": "code",
   "execution_count": null,
   "metadata": {
    "ExecuteTime": {
     "end_time": "2024-03-22T13:55:17.102884Z",
     "start_time": "2024-03-22T13:55:17.098949Z"
    },
    "collapsed": false,
    "jupyter": {
     "outputs_hidden": false
    }
   },
   "outputs": [],
   "source": [
    "# newly created entities do not have a default CoA...\n",
    "entity_model.has_default_coa()"
   ]
  },
  {
   "cell_type": "code",
   "execution_count": null,
   "metadata": {
    "ExecuteTime": {
     "end_time": "2024-03-22T13:55:17.494543Z",
     "start_time": "2024-03-22T13:55:17.491032Z"
    },
    "collapsed": false,
    "jupyter": {
     "outputs_hidden": false
    }
   },
   "outputs": [],
   "source": [
    "entity_model.chartofaccountmodel_set.all()"
   ]
  },
  {
   "cell_type": "code",
   "execution_count": null,
   "metadata": {
    "ExecuteTime": {
     "end_time": "2024-03-22T13:56:06.982402Z",
     "start_time": "2024-03-22T13:56:06.980313Z"
    },
    "collapsed": false,
    "jupyter": {
     "outputs_hidden": false
    }
   },
   "outputs": [],
   "source": [
    "URL = entity_model.get_coa_list_url()\n",
    "URL = f'http://localhost:8000{URL}'\n",
    "URL"
   ]
  },
  {
   "cell_type": "markdown",
   "metadata": {
    "collapsed": false,
    "jupyter": {
     "outputs_hidden": false
    }
   },
   "source": [
    "# Create A Chart of Accounts"
   ]
  },
  {
   "cell_type": "code",
   "execution_count": null,
   "metadata": {
    "ExecuteTime": {
     "end_time": "2024-03-22T13:48:31.895780Z",
     "start_time": "2024-03-22T13:48:31.873261Z"
    },
    "collapsed": false,
    "jupyter": {
     "outputs_hidden": false
    }
   },
   "outputs": [],
   "source": [
    "coa_model = entity_model.create_chart_of_accounts(\n",
    "    coa_name=f'My First Chart of Accounts #{randint(10000,99999)}',\n",
    "    commit=True\n",
    ")"
   ]
  },
  {
   "cell_type": "code",
   "execution_count": null,
   "metadata": {
    "ExecuteTime": {
     "end_time": "2024-03-22T13:48:32.257704Z",
     "start_time": "2024-03-22T13:48:32.254430Z"
    },
    "collapsed": false,
    "jupyter": {
     "outputs_hidden": false
    }
   },
   "outputs": [],
   "source": [
    "coa_model"
   ]
  },
  {
   "cell_type": "markdown",
   "metadata": {},
   "source": [
    "## Create a Chart of Accounts\n",
    "- Newly created EntityModel do not have a default Code of Accounts yet."
   ]
  },
  {
   "cell_type": "code",
   "execution_count": null,
   "metadata": {
    "ExecuteTime": {
     "end_time": "2024-03-22T13:48:33.848110Z",
     "start_time": "2024-03-22T13:48:33.843457Z"
    },
    "tags": []
   },
   "outputs": [],
   "source": [
    "entity_model.has_default_coa()"
   ]
  },
  {
   "cell_type": "code",
   "execution_count": null,
   "metadata": {
    "ExecuteTime": {
     "end_time": "2024-03-22T13:48:38.177731Z",
     "start_time": "2024-03-22T13:48:38.155146Z"
    },
    "tags": []
   },
   "outputs": [],
   "source": [
    "a_coa_model = entity_model.create_chart_of_accounts(\n",
    "    commit=True,\n",
    "    coa_name='My QuickStart CoA'\n",
    ")"
   ]
  },
  {
   "cell_type": "code",
   "execution_count": null,
   "metadata": {
    "ExecuteTime": {
     "end_time": "2024-03-22T13:48:43.692623Z",
     "start_time": "2024-03-22T13:48:43.677437Z"
    },
    "tags": []
   },
   "outputs": [],
   "source": [
    "coa_model_qs = entity_model.chartofaccountmodel_set.all()\n",
    "pd.DataFrame(coa_model_qs.values())"
   ]
  },
  {
   "cell_type": "markdown",
   "metadata": {},
   "source": [
    "# Assign a CoA as Default"
   ]
  },
  {
   "cell_type": "code",
   "execution_count": null,
   "metadata": {
    "ExecuteTime": {
     "end_time": "2024-03-19T16:46:04.291931Z",
     "start_time": "2024-03-19T16:46:04.287107Z"
    }
   },
   "outputs": [],
   "source": [
    "entity_model.set_default_coa(coa_model=a_coa_model, commit=True)"
   ]
  },
  {
   "cell_type": "code",
   "execution_count": null,
   "metadata": {
    "ExecuteTime": {
     "end_time": "2024-03-19T16:46:04.701921Z",
     "start_time": "2024-03-19T16:46:04.699488Z"
    }
   },
   "outputs": [],
   "source": [
    "entity_model.has_default_coa()"
   ]
  },
  {
   "cell_type": "code",
   "execution_count": null,
   "metadata": {
    "ExecuteTime": {
     "end_time": "2024-03-19T16:46:05.300090Z",
     "start_time": "2024-03-19T16:46:05.297422Z"
    }
   },
   "outputs": [],
   "source": [
    "entity_model.default_coa"
   ]
  },
  {
   "cell_type": "code",
   "execution_count": null,
   "metadata": {
    "ExecuteTime": {
     "end_time": "2024-03-19T16:46:06.100599Z",
     "start_time": "2024-03-19T16:46:06.098132Z"
    }
   },
   "outputs": [],
   "source": [
    "entity_model.default_coa == a_coa_model"
   ]
  },
  {
   "cell_type": "markdown",
   "metadata": {},
   "source": [
    "## Can be set also by slug"
   ]
  },
  {
   "cell_type": "code",
   "execution_count": null,
   "metadata": {
    "ExecuteTime": {
     "end_time": "2024-03-19T16:46:10.381309Z",
     "start_time": "2024-03-19T16:46:10.378370Z"
    }
   },
   "outputs": [],
   "source": [
    "entity_model.set_default_coa(coa_model=a_coa_model.slug, commit=True)"
   ]
  },
  {
   "cell_type": "code",
   "execution_count": null,
   "metadata": {
    "ExecuteTime": {
     "end_time": "2024-03-19T16:46:11.109807Z",
     "start_time": "2024-03-19T16:46:11.107448Z"
    }
   },
   "outputs": [],
   "source": [
    "entity_model.default_coa == a_coa_model"
   ]
  },
  {
   "cell_type": "markdown",
   "metadata": {},
   "source": [
    "## If using Entity Model API, Provided CoA Model or Slug is Validated"
   ]
  },
  {
   "cell_type": "code",
   "execution_count": null,
   "metadata": {
    "ExecuteTime": {
     "end_time": "2024-03-19T16:46:12.293427Z",
     "start_time": "2024-03-19T16:46:12.119057Z"
    }
   },
   "outputs": [],
   "source": [
    "entity_model.set_default_coa(coa_model=ChartOfAccountModel(slug='this-is-not-for-this-entity'), commit=True)"
   ]
  },
  {
   "cell_type": "code",
   "execution_count": null,
   "metadata": {
    "ExecuteTime": {
     "end_time": "2024-03-19T16:46:13.220614Z",
     "start_time": "2024-03-19T16:46:13.151668Z"
    }
   },
   "outputs": [],
   "source": [
    "entity_model.set_default_coa(coa_model='this-is-not-for-this-entity', commit=True)"
   ]
  },
  {
   "cell_type": "markdown",
   "metadata": {},
   "source": [
    "# Chart of Account Root Accounts - A Hierachy of Accounts"
   ]
  },
  {
   "cell_type": "code",
   "execution_count": null,
   "metadata": {
    "ExecuteTime": {
     "end_time": "2024-03-19T16:46:14.129762Z",
     "start_time": "2024-03-19T16:46:14.124619Z"
    }
   },
   "outputs": [],
   "source": [
    "coa_root_accounts_qs = coa_model.accountmodel_set.all().is_coa_root().select_related('coa_model').order_by('code')\n",
    "pd.DataFrame(coa_root_accounts_qs.values('code', 'name', 'coa_model__name', 'depth', 'role', 'locked'))"
   ]
  },
  {
   "cell_type": "code",
   "execution_count": null,
   "metadata": {
    "ExecuteTime": {
     "end_time": "2024-03-19T16:46:16.528182Z",
     "start_time": "2024-03-19T16:46:16.500717Z"
    }
   },
   "outputs": [],
   "source": [
    "coa_tree = coa_model.get_coa_account_tree()\n",
    "G = nx.from_dict_of_dicts({\n",
    "    f\"{l1['data']['code']}\\n{l1['data']['name']}\\nLocked: {l1['data']['locked']}\": {\n",
    "        f\"{l2['data']['code']}\\n{l2['data']['name']}\\nLocked: {l2['data']['locked']}\": {\n",
    "            'weight': 1\n",
    "        } for l2 in l1['children']\n",
    "    } for l1 in coa_tree\n",
    "}, create_using=nx.DiGraph)\n",
    "\n",
    "options = {\n",
    "    'font_size': 14,\n",
    "    # 'font_color': 'red',\n",
    "    'node_size': 8000,\n",
    "    'node_color': 'white',\n",
    "    'edgecolors': 'black',\n",
    "    'linewidths': 2,\n",
    "    'width': 3,\n",
    "}\n",
    "\n",
    "fig, ax = plt.subplots(figsize=(12, 12))\n",
    "ax.margins(0.2, 0.2)\n",
    "nx.draw_networkx(G, pos=nx.planar_layout(G), **options)\n",
    "ax.set_title(f'Django Ledger | Initial Code of Accounts Structure')"
   ]
  },
  {
   "cell_type": "markdown",
   "metadata": {
    "collapsed": false,
    "jupyter": {
     "outputs_hidden": false
    }
   },
   "source": [
    "# Active Status"
   ]
  },
  {
   "cell_type": "code",
   "execution_count": null,
   "metadata": {
    "ExecuteTime": {
     "end_time": "2024-03-19T22:02:26.889036Z",
     "start_time": "2024-03-19T22:02:26.847977Z"
    },
    "collapsed": false,
    "jupyter": {
     "outputs_hidden": false
    }
   },
   "outputs": [],
   "source": [
    "coa_model.is_active()"
   ]
  },
  {
   "cell_type": "code",
   "execution_count": null,
   "metadata": {
    "collapsed": false,
    "jupyter": {
     "outputs_hidden": false
    }
   },
   "outputs": [],
   "source": [
    "coa_model.mark_as_active()"
   ]
  },
  {
   "cell_type": "code",
   "execution_count": null,
   "metadata": {},
   "outputs": [],
   "source": [
    "coa_model.mark_as_active(raise_exception=True)"
   ]
  },
  {
   "cell_type": "code",
   "execution_count": null,
   "metadata": {},
   "outputs": [],
   "source": [
    "coa_model.mark_as_inactive(commit=True)"
   ]
  },
  {
   "cell_type": "code",
   "execution_count": null,
   "metadata": {},
   "outputs": [],
   "source": [
    "coa_model.is_active()"
   ]
  },
  {
   "cell_type": "code",
   "execution_count": null,
   "metadata": {},
   "outputs": [],
   "source": []
  }
 ],
 "metadata": {
  "kernelspec": {
   "display_name": "Python 3 (ipykernel)",
   "language": "python",
   "name": "python3"
  },
  "language_info": {
   "codemirror_mode": {
    "name": "ipython",
    "version": 3
   },
   "file_extension": ".py",
   "mimetype": "text/x-python",
   "name": "python",
   "nbconvert_exporter": "python",
   "pygments_lexer": "ipython3",
   "version": "3.11.6"
  }
 },
 "nbformat": 4,
 "nbformat_minor": 4
}
