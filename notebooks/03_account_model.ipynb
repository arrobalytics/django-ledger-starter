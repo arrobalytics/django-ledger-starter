{
 "cells": [
  {
   "cell_type": "code",
   "execution_count": null,
   "metadata": {
    "ExecuteTime": {
     "end_time": "2024-03-19T22:03:46.790467Z",
     "start_time": "2024-03-19T22:03:46.785831Z"
    },
    "tags": []
   },
   "outputs": [],
   "source": [
    "import os\n",
    "\n",
    "import django\n",
    "from django.core.exceptions import ObjectDoesNotExist\n",
    "import pandas as pd\n",
    "import networkx as nx\n",
    "from matplotlib import pyplot as plt\n",
    "from random import randint\n",
    "\n",
    "# for easier visualization it is recommended to use pandas to render data...\n",
    "# if pandas is not installed, you may install it with this command: pip install -U pandas\n",
    "# pandas is not a dependency of django_ledger...\n",
    "\n",
    "# Set your django settings module if needed...\n",
    "os.environ['DJANGO_SETTINGS_MODULE'] = 'django_ledger_starter.settings'\n",
    "\n",
    "# if using jupyter notebook need to set DJANGO_ALLOW_ASYNC_UNSAFE as \"true\"\n",
    "os.environ['DJANGO_ALLOW_ASYNC_UNSAFE'] = 'true'\n",
    "\n",
    "# change your working directory as needed...\n",
    "os.chdir('../')\n",
    "\n",
    "django.setup()\n",
    "\n",
    "from django_ledger.models import EntityModel, ChartOfAccountModel, AccountModel, DEBIT, CREDIT\n",
    "from django_ledger.io import roles\n",
    "from django_ledger import __version__ as DJL_VERSION\n",
    "from django.contrib.auth import get_user_model\n",
    "\n",
    "print(f'Using Django Ledger Version v{DJL_VERSION}')"
   ]
  },
  {
   "cell_type": "markdown",
   "metadata": {},
   "source": [
    "# Account Model\n",
    "- An Account Model is a bucket of money that has a specific role in the financial ecosystem of an entity.\n",
    "- Its balance represents amount of money present in the financial records of the Entity for a given accounting period.\n",
    "- The total balance of an Account is increased or decreased by adding DEBIT or CREDIT Transactions to its ledger.\n",
    "- Depending on the Balance Type of the Account, a DEBIT or a CREDIT will have different impacts on its total balance.\n",
    "- Examples of Accounts Models are *Bank Accounts, Credit Cards, Mortgage Balances, Accounts Payable, etc*."
   ]
  },
  {
   "cell_type": "markdown",
   "metadata": {},
   "source": [
    " <img src=\"./assets/djl_core_model_account.png\" alt=\"Django Ledger Core Model\" width=\"1200\" height=\"600\"> "
   ]
  },
  {
   "cell_type": "markdown",
   "metadata": {},
   "source": [
    "# Get Your Entity Administrator UserModel"
   ]
  },
  {
   "cell_type": "code",
   "execution_count": null,
   "metadata": {
    "ExecuteTime": {
     "end_time": "2024-03-19T21:58:39.222525Z",
     "start_time": "2024-03-19T21:58:39.215773Z"
    },
    "tags": []
   },
   "outputs": [],
   "source": [
    "# change this to your preferred django username...\n",
    "MY_USERNAME = 'ceo_user'\n",
    "MY_PASSWORD = 'NeverUseMe|VeryInsecure!'\n",
    "UserModel = get_user_model()\n",
    "\n",
    "try:\n",
    "    ceo_user = UserModel.objects.get(username__exact=MY_USERNAME)\n",
    "except:\n",
    "    ceo_user = UserModel(username=MY_USERNAME)\n",
    "    ceo_user.set_password(MY_PASSWORD)\n",
    "    ceo_user.save()"
   ]
  },
  {
   "cell_type": "markdown",
   "metadata": {},
   "source": [
    "# Get or Create an Entity Model"
   ]
  },
  {
   "cell_type": "code",
   "execution_count": null,
   "metadata": {
    "ExecuteTime": {
     "end_time": "2024-03-19T21:58:42.268154Z",
     "start_time": "2024-03-19T21:58:42.261925Z"
    },
    "tags": []
   },
   "outputs": [],
   "source": [
    "ENTITY_NAME = 'Account Model Notebook, LLC'\n",
    "\n",
    "try:\n",
    "    entity_model: EntityModel = EntityModel.objects.for_user(\n",
    "        user_model=ceo_user).get(name__exact=ENTITY_NAME)\n",
    "except ObjectDoesNotExist:\n",
    "    entity_model = EntityModel.create_entity(\n",
    "        name=ENTITY_NAME,\n",
    "        admin=ceo_user,\n",
    "        use_accrual_method=False,\n",
    "        fy_start_month=1\n",
    "    )\n",
    "\n",
    "entity_model"
   ]
  },
  {
   "cell_type": "markdown",
   "metadata": {
    "collapsed": false,
    "jupyter": {
     "outputs_hidden": false
    }
   },
   "source": [
    "# Let's Create a Chart of Accounts to Work With"
   ]
  },
  {
   "cell_type": "code",
   "execution_count": null,
   "metadata": {
    "ExecuteTime": {
     "end_time": "2024-03-19T21:59:10.787926Z",
     "start_time": "2024-03-19T21:59:10.765192Z"
    }
   },
   "outputs": [],
   "source": [
    "coa_model: ChartOfAccountModel = entity_model.create_chart_of_accounts(\n",
    "    coa_name='Account Model Notebook CoA',\n",
    "    commit=True\n",
    ")"
   ]
  },
  {
   "cell_type": "code",
   "execution_count": null,
   "metadata": {
    "ExecuteTime": {
     "end_time": "2024-03-19T22:03:02.271478Z",
     "start_time": "2024-03-19T22:03:02.269599Z"
    },
    "collapsed": false,
    "jupyter": {
     "outputs_hidden": false
    }
   },
   "outputs": [],
   "source": [
    "coa_model"
   ]
  },
  {
   "cell_type": "markdown",
   "metadata": {
    "collapsed": false,
    "jupyter": {
     "outputs_hidden": false
    }
   },
   "source": [
    "# The Root Accounts Are Automatically Created\n",
    "- Not used for transactions."
   ]
  },
  {
   "cell_type": "code",
   "execution_count": null,
   "metadata": {
    "ExecuteTime": {
     "end_time": "2024-03-19T22:03:19.785228Z",
     "start_time": "2024-03-19T22:03:19.779311Z"
    },
    "collapsed": false,
    "jupyter": {
     "outputs_hidden": false
    }
   },
   "outputs": [],
   "source": [
    "coa_model.get_coa_root_accounts_qs()"
   ]
  },
  {
   "cell_type": "code",
   "execution_count": null,
   "metadata": {},
   "outputs": [],
   "source": [
    "coa_tree = coa_model.get_coa_account_tree()\n",
    "G = nx.from_dict_of_dicts({\n",
    "    f\"{l1['data']['code']}\\n{l1['data']['name']}\\nLocked: {l1['data']['locked']}\": {\n",
    "        f\"{l2['data']['code']}\\n{l2['data']['name']}\\nLocked: {l2['data']['locked']}\": {\n",
    "            'weight': 1\n",
    "        } for l2 in l1['children']\n",
    "    } for l1 in coa_tree\n",
    "}, create_using=nx.DiGraph)\n",
    "\n",
    "options = {\n",
    "    'font_size': 14,\n",
    "    # 'font_color': 'red',\n",
    "    'node_size': 8000,\n",
    "    'node_color': 'white',\n",
    "    'edgecolors': 'black',\n",
    "    'linewidths': 2,\n",
    "    'width': 3,\n",
    "}\n",
    "\n",
    "fig, ax = plt.subplots(figsize=(12, 12))\n",
    "ax.margins(0.2, 0.2)\n",
    "nx.draw_networkx(G, pos=nx.planar_layout(G), **options)\n",
    "ax.set_title(f'Django Ledger | Initial Code of Accounts Structure')"
   ]
  },
  {
   "cell_type": "code",
   "execution_count": null,
   "metadata": {
    "ExecuteTime": {
     "end_time": "2024-03-19T22:03:20.208491Z",
     "start_time": "2024-03-19T22:03:20.203630Z"
    },
    "collapsed": false,
    "jupyter": {
     "outputs_hidden": false
    }
   },
   "outputs": [],
   "source": [
    "coa_model.get_non_root_coa_accounts_qs()"
   ]
  },
  {
   "cell_type": "code",
   "execution_count": null,
   "metadata": {},
   "outputs": [],
   "source": [
    "entity_model.get_all_accounts()"
   ]
  },
  {
   "cell_type": "markdown",
   "metadata": {
    "collapsed": false,
    "jupyter": {
     "outputs_hidden": false
    }
   },
   "source": [
    "# Create Your First Account"
   ]
  },
  {
   "cell_type": "markdown",
   "metadata": {
    "collapsed": false,
    "jupyter": {
     "outputs_hidden": false
    }
   },
   "source": [
    "## Direct Model Instantiation Will Not Work"
   ]
  },
  {
   "cell_type": "code",
   "execution_count": null,
   "metadata": {
    "ExecuteTime": {
     "end_time": "2024-03-19T22:08:37.801677Z",
     "start_time": "2024-03-19T22:08:37.747082Z"
    },
    "collapsed": false,
    "jupyter": {
     "outputs_hidden": false
    }
   },
   "outputs": [],
   "source": [
    "account_model_cash = AccountModel(\n",
    "    code='1101',\n",
    "    name='Big Bank Checking Account',\n",
    "    role=roles.ASSET_CA_CASH,\n",
    "    balance_type=DEBIT,\n",
    "    coa_model=coa_model,\n",
    "    active=False\n",
    ")\n",
    "account_model_cash.clean()\n",
    "\n",
    "# This is because accounts need to be inserted into the account tree model.\n",
    "account_model_cash.save()"
   ]
  },
  {
   "cell_type": "markdown",
   "metadata": {
    "collapsed": false,
    "jupyter": {
     "outputs_hidden": false
    }
   },
   "source": [
    "## Use the provided Entity Model API"
   ]
  },
  {
   "cell_type": "code",
   "execution_count": null,
   "metadata": {},
   "outputs": [],
   "source": [
    "account_model_cash = entity_model.create_account(\n",
    "    code='1101',\n",
    "    name='Big Bank Checking Account',\n",
    "    role=roles.ASSET_CA_CASH,\n",
    "    balance_type=DEBIT,\n",
    "    coa_model=coa_model,\n",
    "    active=False\n",
    ")"
   ]
  },
  {
   "cell_type": "code",
   "execution_count": null,
   "metadata": {},
   "outputs": [],
   "source": [
    "account_model_cash"
   ]
  },
  {
   "cell_type": "markdown",
   "metadata": {},
   "source": [
    "## Let's create an account of type Expense"
   ]
  },
  {
   "cell_type": "code",
   "execution_count": null,
   "metadata": {},
   "outputs": [],
   "source": [
    "account_model_expense = entity_model.create_account(\n",
    "    code='1101',\n",
    "    name='Office Expenses',\n",
    "    role=roles.EXPENSE_OPERATIONAL,\n",
    "    balance_type=DEBIT,\n",
    "    coa_model=coa_model,\n",
    "    active=False\n",
    ")"
   ]
  },
  {
   "cell_type": "markdown",
   "metadata": {},
   "source": [
    "## Account Code Convention:\n",
    "- **1**: Assets\n",
    "- **2**: Liabilities\n",
    "- **3**: Capital/Equity\n",
    "- **4**: Income\n",
    "- **5**: COGS\n",
    "- **6**: Expense"
   ]
  },
  {
   "cell_type": "code",
   "execution_count": null,
   "metadata": {},
   "outputs": [],
   "source": [
    "account_model_expense = entity_model.create_account(\n",
    "    code='6101',\n",
    "    name='Office Expenses',\n",
    "    role=roles.EXPENSE_OPERATIONAL,\n",
    "    balance_type=DEBIT,\n",
    "    coa_model=coa_model,\n",
    "    active=False\n",
    ")"
   ]
  },
  {
   "cell_type": "code",
   "execution_count": null,
   "metadata": {},
   "outputs": [],
   "source": [
    "account_model_expense"
   ]
  },
  {
   "cell_type": "markdown",
   "metadata": {},
   "source": [
    "### Account numbers are unique for each Chart of Accounts"
   ]
  },
  {
   "cell_type": "code",
   "execution_count": null,
   "metadata": {
    "ExecuteTime": {
     "end_time": "2024-03-19T21:41:47.030952Z",
     "start_time": "2024-03-19T21:41:46.977592Z"
    },
    "collapsed": false,
    "jupyter": {
     "outputs_hidden": false
    }
   },
   "outputs": [],
   "source": [
    "# entity_model.create_account(\n",
    "#     code='6101',\n",
    "#     name='Office Expenses',\n",
    "#     role=roles.EXPENSE_OPERATIONAL,\n",
    "#     balance_type=DEBIT,\n",
    "#     coa_model=coa_model,\n",
    "#     active=False\n",
    "# )"
   ]
  },
  {
   "cell_type": "markdown",
   "metadata": {},
   "source": [
    "# Get Your Account Models"
   ]
  },
  {
   "cell_type": "markdown",
   "metadata": {},
   "source": [
    "### Option 1: Use the CoA"
   ]
  },
  {
   "cell_type": "code",
   "execution_count": null,
   "metadata": {
    "ExecuteTime": {
     "end_time": "2024-03-19T16:49:46.777621Z",
     "start_time": "2024-03-19T16:49:46.774460Z"
    },
    "collapsed": false,
    "jupyter": {
     "outputs_hidden": false
    }
   },
   "outputs": [],
   "source": [
    "account_model_qs = coa_model.get_non_root_coa_accounts_qs()\n",
    "pd.DataFrame(account_model_qs.values())"
   ]
  },
  {
   "cell_type": "code",
   "execution_count": null,
   "metadata": {
    "collapsed": false,
    "jupyter": {
     "outputs_hidden": false
    }
   },
   "outputs": [],
   "source": [
    "URL = coa_model.get_account_list_url()\n",
    "URL = f'http://localhost:8000{URL}'\n",
    "URL"
   ]
  },
  {
   "cell_type": "markdown",
   "metadata": {},
   "source": [
    "### Option 2: Use the Entity\n",
    "- Uses default CoA"
   ]
  },
  {
   "cell_type": "code",
   "execution_count": null,
   "metadata": {},
   "outputs": [],
   "source": [
    "account_model_qs = entity_model.get_all_accounts()\n",
    "pd.DataFrame(account_model_qs.values())"
   ]
  },
  {
   "cell_type": "code",
   "execution_count": null,
   "metadata": {},
   "outputs": [],
   "source": [
    "account_model_qs = entity_model.get_coa_accounts(coa_model=coa_model)\n",
    "pd.DataFrame(account_model_qs.values())"
   ]
  },
  {
   "cell_type": "code",
   "execution_count": null,
   "metadata": {},
   "outputs": [],
   "source": [
    "account_model_qs = entity_model.get_coa_accounts(coa_model=coa_model, active=False)\n",
    "pd.DataFrame(account_model_qs.values())"
   ]
  },
  {
   "cell_type": "code",
   "execution_count": null,
   "metadata": {},
   "outputs": [],
   "source": [
    "# coa_model."
   ]
  },
  {
   "cell_type": "markdown",
   "metadata": {},
   "source": [
    "# Account Status"
   ]
  },
  {
   "cell_type": "markdown",
   "metadata": {},
   "source": [
    "#### Active Status"
   ]
  },
  {
   "cell_type": "code",
   "execution_count": null,
   "metadata": {},
   "outputs": [],
   "source": [
    "account_model_cash.is_active()"
   ]
  },
  {
   "cell_type": "code",
   "execution_count": null,
   "metadata": {},
   "outputs": [],
   "source": [
    "account_model_cash.can_activate()"
   ]
  },
  {
   "cell_type": "code",
   "execution_count": null,
   "metadata": {},
   "outputs": [],
   "source": [
    "account_model_cash.activate()\n",
    "account_model_expense.activate()"
   ]
  },
  {
   "cell_type": "code",
   "execution_count": null,
   "metadata": {},
   "outputs": [],
   "source": [
    "account_model_qs = entity_model.get_coa_accounts(coa_model=coa_model)\n",
    "pd.DataFrame(account_model_qs.values())"
   ]
  },
  {
   "cell_type": "code",
   "execution_count": null,
   "metadata": {},
   "outputs": [],
   "source": []
  }
 ],
 "metadata": {
  "kernelspec": {
   "display_name": "Python 3 (ipykernel)",
   "language": "python",
   "name": "python3"
  },
  "language_info": {
   "codemirror_mode": {
    "name": "ipython",
    "version": 3
   },
   "file_extension": ".py",
   "mimetype": "text/x-python",
   "name": "python",
   "nbconvert_exporter": "python",
   "pygments_lexer": "ipython3",
   "version": "3.11.6"
  }
 },
 "nbformat": 4,
 "nbformat_minor": 4
}
