{
 "cells": [
  {
   "cell_type": "markdown",
   "metadata": {},
   "source": [
    "# **Basic Imports**\n",
    "\n",
    "These are the basic code imports we are going to use for this Getting Started Guide. Make sure to put them at the \n",
    "beginning of your Python Script for things to work as expected.\n",
    "\n",
    "-  **Uncomment and/or edit lines as needed depending on your development environment**"
   ]
  },
  {
   "cell_type": "code",
   "execution_count": 2,
   "metadata": {
    "ExecuteTime": {
     "end_time": "2024-01-09T01:37:18.805566Z",
     "start_time": "2024-01-09T01:37:18.766029Z"
    },
    "tags": []
   },
   "outputs": [],
   "source": [
    "import os\n",
    "from datetime import date, datetime\n",
    "from decimal import Decimal\n",
    "from random import randint, choices, random\n",
    "from zoneinfo import ZoneInfo\n",
    "from pathlib import Path\n",
    "from pprint import pprint\n",
    "\n",
    "\n",
    "import django\n",
    "# for easier visualization it is recommended to use pandas to render data...\n",
    "# if pandas is not installed, you may install it with this command: pip install -U pandas\n",
    "# pandas is not a dependecy of django_ledger...\n",
    "import pandas as pd\n",
    "from django.core.exceptions import ObjectDoesNotExist\n",
    "from django.conf import settings\n",
    "\n",
    "# Set your django settings module if needed...\n",
    "os.environ['DJANGO_SETTINGS_MODULE'] = 'django_ledger_starter.settings'\n",
    "\n",
    "# if using jupyter notebook need to set DJANGO_ALLOW_ASYNC_UNSAFE as \"true\"\n",
    "os.environ['DJANGO_ALLOW_ASYNC_UNSAFE'] = 'true'\n",
    "\n",
    "# change your working directory as needed...\n",
    "# os.chdir('/path/to/working_dir/')\n",
    "\n",
    "django.setup()\n",
    "\n",
    "from django_ledger.models import EntityModel, ChartOfAccountModel, AccountModel\n",
    "from django.contrib.auth import get_user_model\n",
    "from django_ledger.io import roles, DEBIT, CREDIT\n",
    "from django_ledger.io.io_library import IOBluePrint, IOLibrary"
   ]
  }
 ],
 "metadata": {
  "kernelspec": {
   "display_name": "Python 3 (ipykernel)",
   "language": "python",
   "name": "python3"
  },
  "language_info": {
   "codemirror_mode": {
    "name": "ipython",
    "version": 3
   },
   "file_extension": ".py",
   "mimetype": "text/x-python",
   "name": "python",
   "nbconvert_exporter": "python",
   "pygments_lexer": "ipython3",
   "version": "3.11.6"
  }
 },
 "nbformat": 4,
 "nbformat_minor": 4
}
